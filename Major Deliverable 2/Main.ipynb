{
 "cells": [
  {
   "cell_type": "markdown",
   "metadata": {},
   "source": [
    "# Imports"
   ]
  },
  {
   "cell_type": "code",
   "execution_count": 1,
   "metadata": {},
   "outputs": [],
   "source": [
    "import numpy as np\n",
    "import pandas as pd\n",
    "import matplotlib.pyplot as plt"
   ]
  },
  {
   "cell_type": "markdown",
   "metadata": {},
   "source": [
    "# Naive Algorithm\n",
    "\n",
    "https://www.geeksforgeeks.org/naive-algorithm-for-pattern-searching/?ref=rp"
   ]
  },
  {
   "cell_type": "code",
   "execution_count": 6,
   "metadata": {},
   "outputs": [],
   "source": [
    "def naive(string, pattern):\n",
    "    n = len(string)\n",
    "    m = len(pattern)\n",
    "    \n",
    "    for i in range(n - m + 1):\n",
    "        j = 0\n",
    "        \n",
    "        while(j < m):\n",
    "            if string[i+j] != pattern[j]:\n",
    "                break\n",
    "                \n",
    "            j += 1\n",
    "            # counter here\n",
    " \n",
    "        if j == m:\n",
    "            print(\"Pattern found at index \", i)"
   ]
  },
  {
   "cell_type": "code",
   "execution_count": 7,
   "metadata": {},
   "outputs": [
    {
     "name": "stdout",
     "output_type": "stream",
     "text": [
      "Pattern found at index  0\n",
      "Pattern found at index  9\n",
      "Pattern found at index  13\n"
     ]
    }
   ],
   "source": [
    "string = \"AABAACAADAABAAABAA\"\n",
    "pattern = \"AABA\"\n",
    "naive(string, pattern)"
   ]
  },
  {
   "cell_type": "markdown",
   "metadata": {},
   "source": [
    "# Rabin-Karp Algorithm\n",
    "\n",
    "https://www.geeksforgeeks.org/rabin-karp-algorithm-for-pattern-searching/?ref=rp"
   ]
  },
  {
   "cell_type": "code",
   "execution_count": 10,
   "metadata": {},
   "outputs": [],
   "source": [
    "def rabinKarp(string, pattern, prime):\n",
    "    n = len(string)\n",
    "    m = len(pattern)\n",
    "    i = 0\n",
    "    j = 0\n",
    "    tHash = 0\n",
    "    pHash = 0\n",
    "    h = 1\n",
    "    d = 256\n",
    "\n",
    "    for i in range(m - 1):\n",
    "        h = (h * d) % prime\n",
    "\n",
    "    for i in range(m):\n",
    "        tHash = (d * tHash + ord(string[i])) % prime\n",
    "        pHash = (d * pHash + ord(pattern[i])) % prime\n",
    "\n",
    "    for i in range(n - m + 1):\n",
    "        if pHash == tHash:\n",
    "            for j in range(m):\n",
    "                if string[i+j] != pattern[j]:\n",
    "                    break\n",
    "                else:\n",
    "                    j += 1\n",
    "\n",
    "            if j == m:\n",
    "                print(\"Pattern found at index \", i)\n",
    "\n",
    "        if i < n - m:\n",
    "            tHash = (d * (tHash - ord(string[i]) * h) + ord(string[i+m])) % prime\n",
    "\n",
    "            if tHash < 0:\n",
    "                tHash = tHash + prime"
   ]
  },
  {
   "cell_type": "code",
   "execution_count": 11,
   "metadata": {},
   "outputs": [
    {
     "name": "stdout",
     "output_type": "stream",
     "text": [
      "Pattern found at index  0\n",
      "Pattern found at index  9\n",
      "Pattern found at index  13\n"
     ]
    }
   ],
   "source": [
    "string = \"AABAACAADAABAAABAA\"\n",
    "pattern = \"AABA\"\n",
    "prime = 101\n",
    "rabinKarp(string, pattern, prime)"
   ]
  },
  {
   "cell_type": "markdown",
   "metadata": {},
   "source": [
    "# Knuth Morris Pratt (KMP) Algorithm\n",
    "\n",
    "https://www.geeksforgeeks.org/kmp-algorithm-for-pattern-searching/"
   ]
  },
  {
   "cell_type": "code",
   "execution_count": 14,
   "metadata": {},
   "outputs": [],
   "source": [
    "def kmp(string, pattern):\n",
    "    n = len(string)\n",
    "    m = len(pattern)\n",
    "\n",
    "    lps = [0] * m\n",
    "    j = 0\n",
    "    computeLPS(pattern, m, lps)\n",
    "\n",
    "    i = 0\n",
    "    while i < n:\n",
    "        if pattern[j] == string[i]:\n",
    "            i += 1\n",
    "            j += 1\n",
    "\n",
    "        if j == m:\n",
    "            print(\"Found pattern at index \", i - j)\n",
    "            j = lps[j-1]\n",
    "        elif i < n and pattern[j] != string[i]:\n",
    "            if j != 0:\n",
    "                j = lps[j-1]\n",
    "            else:\n",
    "                i += 1\n",
    "\n",
    "def computeLPS(pattern, m, lps):\n",
    "    len = 0\n",
    "    lps[0]\n",
    "    i = 1\n",
    "\n",
    "    while i < m:\n",
    "        if pattern[i] == pattern[len]:\n",
    "            len += 1\n",
    "            lps[i] = len\n",
    "            i += 1\n",
    "        else:\n",
    "            if len != 0:\n",
    "                len = lps[len-1]\n",
    "            else:\n",
    "                lps[i] = 0\n",
    "                i += 1"
   ]
  },
  {
   "cell_type": "code",
   "execution_count": 15,
   "metadata": {},
   "outputs": [
    {
     "name": "stdout",
     "output_type": "stream",
     "text": [
      "Found pattern at index  0\n",
      "Found pattern at index  9\n",
      "Found pattern at index  13\n"
     ]
    }
   ],
   "source": [
    "string = \"AABAACAADAABAAABAA\"\n",
    "pattern = \"AABA\"\n",
    "kmp(string, pattern)"
   ]
  }
 ],
 "metadata": {
  "kernelspec": {
   "display_name": "Python 3",
   "language": "python",
   "name": "python3"
  },
  "language_info": {
   "codemirror_mode": {
    "name": "ipython",
    "version": 3
   },
   "file_extension": ".py",
   "mimetype": "text/x-python",
   "name": "python",
   "nbconvert_exporter": "python",
   "pygments_lexer": "ipython3",
   "version": "3.7.6"
  }
 },
 "nbformat": 4,
 "nbformat_minor": 4
}
