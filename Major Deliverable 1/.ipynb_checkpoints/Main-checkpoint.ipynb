{
 "cells": [
  {
   "cell_type": "markdown",
   "metadata": {},
   "source": [
    "# Imports"
   ]
  },
  {
   "cell_type": "code",
   "execution_count": 1,
   "metadata": {},
   "outputs": [],
   "source": [
    "import numpy as np\n",
    "import pandas as pd\n",
    "import matplotlib.pyplot as plt"
   ]
  },
  {
   "cell_type": "markdown",
   "metadata": {},
   "source": [
    "# Data"
   ]
  },
  {
   "cell_type": "code",
   "execution_count": 7,
   "metadata": {},
   "outputs": [
    {
     "name": "stdout",
     "output_type": "stream",
     "text": [
      "100000\n"
     ]
    }
   ],
   "source": [
    "data_random = pd.read_excel('./data.xlsx', sheet_name='Random', header=None)\n",
    "data_random = data_random[0].to_list()\n",
    "print(len(data_random))"
   ]
  },
  {
   "cell_type": "code",
   "execution_count": 3,
   "metadata": {},
   "outputs": [
    {
     "name": "stdout",
     "output_type": "stream",
     "text": [
      "100000\n"
     ]
    }
   ],
   "source": [
    "data_realistic = pd.read_excel('./data.xlsx', sheet_name='Realistic', header=None)\n",
    "data_realistic = data_realistic[0].to_list()\n",
    "print(len(data_realistic))"
   ]
  },
  {
   "cell_type": "code",
   "execution_count": 4,
   "metadata": {},
   "outputs": [
    {
     "name": "stdout",
     "output_type": "stream",
     "text": [
      "100000\n"
     ]
    }
   ],
   "source": [
    "data_contrived = pd.read_excel('./data.xlsx', sheet_name='Contrived', header=None)\n",
    "data_contrived = data_contrived[0].to_list()\n",
    "print(len(data_contrived))"
   ]
  },
  {
   "cell_type": "code",
   "execution_count": 9,
   "metadata": {},
   "outputs": [
    {
     "data": {
      "text/plain": [
       "[1000,\n",
       " 2000,\n",
       " 3000,\n",
       " 4000,\n",
       " 5000,\n",
       " 6000,\n",
       " 7000,\n",
       " 8000,\n",
       " 9000,\n",
       " 10000,\n",
       " 11000,\n",
       " 12000,\n",
       " 13000,\n",
       " 14000,\n",
       " 15000,\n",
       " 16000,\n",
       " 17000,\n",
       " 18000,\n",
       " 19000,\n",
       " 20000,\n",
       " 21000,\n",
       " 22000,\n",
       " 23000,\n",
       " 24000,\n",
       " 25000,\n",
       " 26000,\n",
       " 27000,\n",
       " 28000,\n",
       " 29000,\n",
       " 30000,\n",
       " 31000,\n",
       " 32000,\n",
       " 33000,\n",
       " 34000,\n",
       " 35000,\n",
       " 36000,\n",
       " 37000,\n",
       " 38000,\n",
       " 39000,\n",
       " 40000,\n",
       " 41000,\n",
       " 42000,\n",
       " 43000,\n",
       " 44000,\n",
       " 45000,\n",
       " 46000,\n",
       " 47000,\n",
       " 48000,\n",
       " 49000,\n",
       " 50000,\n",
       " 51000,\n",
       " 52000,\n",
       " 53000,\n",
       " 54000,\n",
       " 55000,\n",
       " 56000,\n",
       " 57000,\n",
       " 58000,\n",
       " 59000,\n",
       " 60000,\n",
       " 61000,\n",
       " 62000,\n",
       " 63000,\n",
       " 64000,\n",
       " 65000,\n",
       " 66000,\n",
       " 67000,\n",
       " 68000,\n",
       " 69000,\n",
       " 70000,\n",
       " 71000,\n",
       " 72000,\n",
       " 73000,\n",
       " 74000,\n",
       " 75000,\n",
       " 76000,\n",
       " 77000,\n",
       " 78000,\n",
       " 79000,\n",
       " 80000,\n",
       " 81000,\n",
       " 82000,\n",
       " 83000,\n",
       " 84000,\n",
       " 85000,\n",
       " 86000,\n",
       " 87000,\n",
       " 88000,\n",
       " 89000,\n",
       " 90000,\n",
       " 91000,\n",
       " 92000,\n",
       " 93000,\n",
       " 94000,\n",
       " 95000,\n",
       " 96000,\n",
       " 97000,\n",
       " 98000,\n",
       " 99000,\n",
       " 100000]"
      ]
     },
     "execution_count": 9,
     "metadata": {},
     "output_type": "execute_result"
    }
   ],
   "source": [
    "data_random = list(range(1, 100001))\n",
    "data_random = data_random[999::1000]\n",
    "data_random"
   ]
  },
  {
   "cell_type": "code",
   "execution_count": null,
   "metadata": {},
   "outputs": [],
   "source": [
    "def insertionSort(arr, N):\n",
    "    count = 0\n",
    "    for j in range(1, N):\n",
    "        key = arr[j]\n",
    "        i = j - 1\n",
    "        while i >= 0 and arr[i] > key:\n",
    "            count += 1\n",
    "            arr[i + 1] = arr[i]\n",
    "            i -= 1\n",
    "        arr[i + 1] = key\n",
    "\n",
    "    print(\"Final Count: \" + str(count))\n",
    "    return arr"
   ]
  }
 ],
 "metadata": {
  "kernelspec": {
   "display_name": "Python 3",
   "language": "python",
   "name": "python3"
  },
  "language_info": {
   "codemirror_mode": {
    "name": "ipython",
    "version": 3
   },
   "file_extension": ".py",
   "mimetype": "text/x-python",
   "name": "python",
   "nbconvert_exporter": "python",
   "pygments_lexer": "ipython3",
   "version": "3.7.6"
  }
 },
 "nbformat": 4,
 "nbformat_minor": 4
}
